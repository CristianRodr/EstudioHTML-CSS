{
  "nbformat": 4,
  "nbformat_minor": 0,
  "metadata": {
    "colab": {
      "provenance": [],
      "collapsed_sections": [],
      "toc_visible": true,
      "include_colab_link": true
    },
    "kernelspec": {
      "name": "python3",
      "display_name": "Python 3"
    },
    "language_info": {
      "name": "python"
    }
  },
  "cells": [
    {
      "cell_type": "markdown",
      "metadata": {
        "id": "view-in-github",
        "colab_type": "text"
      },
      "source": [
        "<a href=\"https://colab.research.google.com/github/CristianRodr/EstudioHTML-CSS/blob/main/Copia_de_Laboratorio_Par_mas_cercano.ipynb\" target=\"_parent\"><img src=\"https://colab.research.google.com/assets/colab-badge.svg\" alt=\"Open In Colab\"/></a>"
      ]
    },
    {
      "cell_type": "markdown",
      "source": [
        "<font size=6 color=\"#0098CD\">\n",
        "Laboratorio: par más cercano\n",
        "</font>"
      ],
      "metadata": {
        "id": "8AwxNKLe4X5l"
      }
    },
    {
      "cell_type": "markdown",
      "source": [
        "---\n",
        "**Asignatura:** Diseño Avanzado de Algoritmos\n",
        "\n",
        "**Presentado por** Cristian Rodriguez Quintero\n",
        "\n",
        "**Fecha:** \n",
        "\n",
        "---"
      ],
      "metadata": {
        "id": "xh9tvAh3YzHj"
      }
    },
    {
      "cell_type": "markdown",
      "source": [
        "###Objetivo\n",
        "Durante este laboratorio nos familiarizaremos con Python y con la estrategia divide y conquista. Adicionalmente, se aplicarán los conceptos abordados sobre complejidad computacional. "
      ],
      "metadata": {
        "id": "nfPKzvR34wdM"
      }
    },
    {
      "cell_type": "markdown",
      "source": [
        "###Problema\n",
        "\n",
        "**Dado un conjunto de puntos del plano, se quiere construir un programa que encuentre los dos puntos más cercanos.**"
      ],
      "metadata": {
        "id": "G7j0EB7t5BYM"
      }
    },
    {
      "cell_type": "markdown",
      "metadata": {
        "id": "6imYq-Jcm1eN"
      },
      "source": [
        "---\n",
        "\n",
        "####Parte I. Generación del conjunto de datos\n",
        "---\n"
      ]
    },
    {
      "cell_type": "markdown",
      "source": [
        "**Genera un conjunto de $n$ pares ordenados.**"
      ],
      "metadata": {
        "id": "FtJo4D-WMgMs"
      }
    },
    {
      "cell_type": "markdown",
      "source": [
        ">**Solución:**"
      ],
      "metadata": {
        "id": "N2Rqak2ffEY_"
      }
    },
    {
      "cell_type": "code",
      "source": [
        "import random\n",
        "import matplotlib.pyplot as plt\n",
        "# Generando Lista\n",
        "n = 100\n",
        "x = [random.randint(-10_000, 10_000) for _ in range(n)] #comprension de lista\n",
        "y = [random.randint(-10_000, 10_000) for _ in range(n)]"
      ],
      "metadata": {
        "id": "9kY47WE_HtBm"
      },
      "execution_count": null,
      "outputs": []
    },
    {
      "cell_type": "code",
      "source": [
        "lista = []\n",
        "for i in range(len(x)):\n",
        "  lista.append((x[i], y[i]))"
      ],
      "metadata": {
        "id": "khmk0pI2Mo9n"
      },
      "execution_count": null,
      "outputs": []
    },
    {
      "cell_type": "markdown",
      "source": [
        "**Traza la gráfica del conjunto de pares ordenados en el plano cartesiano.** "
      ],
      "metadata": {
        "id": "iXEpJyFQF33S"
      }
    },
    {
      "cell_type": "markdown",
      "source": [
        ">**Solución:**"
      ],
      "metadata": {
        "id": "H0hzzasgF_5p"
      }
    },
    {
      "cell_type": "code",
      "source": [
        "def grafica(x, y):\n",
        "  plt.plot(x, y, \"b.\")"
      ],
      "metadata": {
        "id": "YzydJps3ONqw"
      },
      "execution_count": null,
      "outputs": []
    },
    {
      "cell_type": "markdown",
      "source": [
        "---\n",
        "\n",
        "####Parte 2. Algoritmo ingenuo\n",
        "---\n"
      ],
      "metadata": {
        "id": "5Er8TThFvanP"
      }
    },
    {
      "cell_type": "markdown",
      "source": [
        "**Escribe un programa que resuelva el problema aplicando un algoritmo ingenuo. Señala la solución sobre la gráfica.**"
      ],
      "metadata": {
        "id": "DF0PtaRTfm6f"
      }
    },
    {
      "cell_type": "markdown",
      "source": [
        ">**Solución:**"
      ],
      "metadata": {
        "id": "TZLOs8Eu1iJy"
      }
    },
    {
      "cell_type": "markdown",
      "source": [
        "**Analiza la complejidad temporal del algoritmo. Puedes utilizar técnicas teóricas, prácticas o ambas.**"
      ],
      "metadata": {
        "id": "S7tS623LftMP"
      }
    },
    {
      "cell_type": "markdown",
      "source": [
        ">**Solución:**"
      ],
      "metadata": {
        "id": "jybeHGxOgK5H"
      }
    },
    {
      "cell_type": "markdown",
      "source": [
        "---\n",
        "\n",
        "####Parte 3. Divide y conquista\n",
        "---"
      ],
      "metadata": {
        "id": "O8_7M4WLGpk5"
      }
    },
    {
      "cell_type": "markdown",
      "source": [
        "**Estudia el programa suministrado por el profesor durante el laboratorio.  Explica en qué fragmentos se evidencia el uso de la estrategia divide y conquista.**"
      ],
      "metadata": {
        "id": "DbEhNvqaGt-n"
      }
    },
    {
      "cell_type": "markdown",
      "source": [
        ">**Solución:**"
      ],
      "metadata": {
        "id": "GaIC-TSJG06Q"
      }
    },
    {
      "cell_type": "markdown",
      "source": [
        "**Explica por qué en el siguiente fragmento de código de la función `par_mas_cercano_linea`, se itera hasta `min(i + 7, numPares)`, independientemente del tamaño del problema.**\n",
        "\n",
        "```python\n",
        "for i in range(numPares - 1):\n",
        "    for j in range(i + 1, min(i + 7, numPares)):\n",
        "        p, q = sub_lista_y[i], sub_lista_y[j]\n",
        "        distPares = distancia(p, q)\n",
        "        if distPares < minDist:\n",
        "            minDist = distPares\n",
        "            pares = [p, q]\n",
        "```"
      ],
      "metadata": {
        "id": "1pQiUyRyHUPT"
      }
    },
    {
      "cell_type": "markdown",
      "source": [
        ">**Solución:**"
      ],
      "metadata": {
        "id": "toUxKi6XINvc"
      }
    },
    {
      "cell_type": "markdown",
      "source": [
        "**Analiza la complejidad temporal del algoritmo. Puedes utilizar técnicas teóricas, prácticas o ambas.**"
      ],
      "metadata": {
        "id": "wya4z6eAIODI"
      }
    },
    {
      "cell_type": "markdown",
      "source": [
        ">**Solución:**"
      ],
      "metadata": {
        "id": "fzGdW-96IRQu"
      }
    },
    {
      "cell_type": "markdown",
      "source": [
        "---\n",
        "###Entrega del laboratorio\n",
        "---\n",
        "El informe debe desarrollarse en Google Colaboratory. La entrega debe hacerse **únicamente en formato PDF**, usando la opción Archivo/Imprimir del entorno de desarrollo y realizando los ajustes necesarios para garantizar la correcta visualización de todo el documento. Extensión máxima: 15 páginas."
      ],
      "metadata": {
        "id": "yt_DwXYv8I1b"
      }
    },
    {
      "cell_type": "markdown",
      "source": [
        "---\n",
        "###Criterios de evaluación\n",
        "---\n",
        "* Los conceptos y contenidos expuestos y explicados deberán ser correctos y apropiados al tema de complejidad computacional y la estrategia divide y conquista.\n",
        "* Se valorará la argumentación en la resolución de la actividad, así como que los resultados obtenidos sean correctos.\n",
        "* Claridad en la exposición y justificación de los procedimientos, además de la redacción y ortografía adecuadas."
      ],
      "metadata": {
        "id": "uo4T7lC8If6Q"
      }
    }
  ]
}